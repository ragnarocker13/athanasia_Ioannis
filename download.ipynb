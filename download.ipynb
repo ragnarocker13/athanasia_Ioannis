{
 "cells": [
  {
   "cell_type": "code",
   "execution_count": 34,
   "metadata": {},
   "outputs": [],
   "source": [
    "from selenium import webdriver\n",
    "from selenium.webdriver.common.by import By"
   ]
  },
  {
   "cell_type": "code",
   "execution_count": 35,
   "metadata": {},
   "outputs": [
    {
     "name": "stderr",
     "output_type": "stream",
     "text": [
      "C:\\Users\\djgru\\AppData\\Local\\Temp\\ipykernel_30636\\1466423310.py:7: DeprecationWarning: use options instead of chrome_options\n",
      "  driver = webdriver.Chrome(chrome_options=options)\n"
     ]
    }
   ],
   "source": [
    "# Set chromedriver options\n",
    "options = webdriver.ChromeOptions()\n",
    "\n",
    "preferences = {\"download.default_directory\": \"C:\\pythonTest\", \"safebrowsing.enabled\":\"false\"}\n",
    "\n",
    "options.add_experimental_option(\"prefs\", preferences)\n",
    "\n",
    "driver = webdriver.Chrome(chrome_options=options)\n",
    "\n",
    "# Load URL and click download link by link text\n",
    "driver.get(\"https://jobs.homesteadstudio.co/data-engineer/assessment/download/\")\n",
    "driver.find_element(By.LINK_TEXT, \"Download\").click()"
   ]
  },
  {
   "cell_type": "code",
   "execution_count": null,
   "metadata": {},
   "outputs": [],
   "source": []
  }
 ],
 "metadata": {
  "kernelspec": {
   "display_name": "Python 3",
   "language": "python",
   "name": "python3"
  },
  "language_info": {
   "codemirror_mode": {
    "name": "ipython",
    "version": 3
   },
   "file_extension": ".py",
   "mimetype": "text/x-python",
   "name": "python",
   "nbconvert_exporter": "python",
   "pygments_lexer": "ipython3",
   "version": "3.11.1"
  },
  "orig_nbformat": 4,
  "vscode": {
   "interpreter": {
    "hash": "3f4e7bceeb537d4f4202152d510f57f0535654ac5eec38d6b82ee5c0d3137b4d"
   }
  }
 },
 "nbformat": 4,
 "nbformat_minor": 2
}
