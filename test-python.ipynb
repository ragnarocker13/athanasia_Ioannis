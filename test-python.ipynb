{
 "cells": [
  {
   "cell_type": "code",
   "execution_count": 15,
   "id": "512982f1-0cad-48a1-a0e3-22082e4caa8c",
   "metadata": {},
   "outputs": [],
   "source": [
    "import pandas as pd\n",
    "import sqlite3\n",
    "\n",
    "# create an SQLite3 connection\n",
    "conn = sqlite3.connect(\"./db/db\")"
   ]
  },
  {
   "cell_type": "code",
   "execution_count": 16,
   "id": "55d8e448-02e1-4590-b3b9-a384a09a38e8",
   "metadata": {},
   "outputs": [],
   "source": [
    "pd.options.display.precision = 5\n",
    "df = pd.read_excel(r'skill_test_data.xlsx', sheet_name='data')"
   ]
  },
  {
   "cell_type": "code",
   "execution_count": null,
   "id": "0ab0f0c6-b637-4b91-a813-59692e04189d",
   "metadata": {},
   "outputs": [],
   "source": [
    "# Test/check dataframe loaded from excel file\n",
    "df.head()"
   ]
  },
  {
   "cell_type": "code",
   "execution_count": null,
   "id": "d7e525bd-f94c-4137-b9cd-09e635c03dbb",
   "metadata": {},
   "outputs": [],
   "source": [
    "pivot3 = pd.pivot_table(df, index='Platform (Northbeam)', values=['Spend','Attributed Rev (1d)','Imprs','Visits','New Visits','Transactions (1d)','Email Signups (1d)'], aggfunc='sum')\n",
    "pivot3 = pivot3.astype(float)\n",
    "\n",
    "# Sort values by Revenue (descending)\n",
    "pivot3.sort_values(by='Attributed Rev (1d)', ascending=False, inplace=True)\n",
    "\n",
    "# Rename columns\n",
    "pivot3.rename(columns = {'Spend':'Sum of Spend', 'Attributed Rev (1d)':'Sum of Attributed Rev (1d)', 'Imprs':'Sum of Imprs', 'Visits':'Sum of Visits', 'New Visits':'Sum of New Visits', 'Transactions (1d)':'Sum of New Transactions (1d)', 'Email Signups (1d)': 'Sum of Email Signups (1d)'}, inplace = True)\n",
    "\n",
    "# Add Grand Total at the bottom row\n",
    "pivot3 = pivot3.append(pivot3[['Sum of Spend','Sum of Attributed Rev (1d)','Sum of Imprs','Sum of Visits','Sum of New Visits','Sum of New Transactions (1d)','Sum of Email Signups (1d)']].sum().rename('Grand Total'))\n",
    "\n",
    "# Rearrange columns\n",
    "reindexed = pivot3.reindex(columns=['Sum of Spend','Sum of Attributed Rev (1d)','Sum of Imprs','Sum of Visits','Sum of New Visits','Sum of New Transactions (1d)','Sum of Email Signups (1d)'])\n",
    "\n",
    "reindexed"
   ]
  },
  {
   "cell_type": "code",
   "execution_count": 20,
   "id": "edd4d854-7489-439d-a8ba-6b701031f90d",
   "metadata": {},
   "outputs": [],
   "source": [
    "# upload to SQLite\n",
    "reindexed.to_sql('pivot_table', conn, if_exists='replace')\n",
    "\n",
    "# close connection\n",
    "conn.close()"
   ]
  }
 ],
 "metadata": {
  "kernelspec": {
   "display_name": "Python 3",
   "language": "python",
   "name": "python3"
  },
  "language_info": {
   "codemirror_mode": {
    "name": "ipython",
    "version": 3
   },
   "file_extension": ".py",
   "mimetype": "text/x-python",
   "name": "python",
   "nbconvert_exporter": "python",
   "pygments_lexer": "ipython3",
   "version": "3.11.1"
  },
  "vscode": {
   "interpreter": {
    "hash": "3f4e7bceeb537d4f4202152d510f57f0535654ac5eec38d6b82ee5c0d3137b4d"
   }
  }
 },
 "nbformat": 4,
 "nbformat_minor": 5
}
